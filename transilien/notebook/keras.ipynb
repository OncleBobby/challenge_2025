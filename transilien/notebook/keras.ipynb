{
 "cells": [
  {
   "cell_type": "code",
   "execution_count": 1,
   "metadata": {},
   "outputs": [],
   "source": [
    "%load_ext autoreload\n",
    "%autoreload 2\n",
    "import sys, warnings, yaml, logging, pandas, time, numpy\n",
    "sys.path.append(\"../src/\") # go to parent dir\n",
    "from main import prepare_data, evaluate_models\n",
    "warnings.filterwarnings('ignore')\n",
    "with open('../conf/log.yml', 'rt') as f:\n",
    "    config = yaml.safe_load(f.read())\n",
    "logging.config.dictConfig(config)"
   ]
  },
  {
   "cell_type": "code",
   "execution_count": 2,
   "metadata": {},
   "outputs": [
    {
     "name": "stdout",
     "output_type": "stream",
     "text": [
      "The autoreload extension is already loaded. To reload it, use:\n",
      "  %reload_ext autoreload\n"
     ]
    }
   ],
   "source": [
    "%load_ext autoreload\n",
    "%autoreload 2\n",
    "x_columns = ['train', 'gare', 'date', 'arret', 'p2q0', 'p3q0', 'p4q0', 'p0q2', 'p0q3', 'p0q4']\n",
    "x_columns = ['gare', 'arret', 'p2q0', 'p3q0', 'p4q0', 'p0q2', 'p0q3', 'p0q4']\n",
    "x_train, x_test, y_train, y_test, x_to_predict = prepare_data(x_columns)"
   ]
  },
  {
   "cell_type": "code",
   "execution_count": 3,
   "metadata": {},
   "outputs": [
    {
     "name": "stdout",
     "output_type": "stream",
     "text": [
      "The autoreload extension is already loaded. To reload it, use:\n",
      "  %reload_ext autoreload\n"
     ]
    }
   ],
   "source": [
    "%load_ext autoreload\n",
    "%autoreload 2\n",
    "import matplotlib.pyplot as plt\n",
    "\n",
    "def plot_history(history):\n",
    "    logging.info(history.history.keys())\n",
    "    plt.plot(history.history['loss'])\n",
    "    plt.plot(history.history['val_loss'])\n",
    "    plt.title('model loss')\n",
    "    plt.ylabel('loss')\n",
    "    plt.xlabel('epoch')\n",
    "    plt.legend(['train', 'test'], loc='upper left')\n",
    "    plt.show()\n",
    "def evaluate_model(model, plot=True):\n",
    "    start = time.time()\n",
    "    score = model.evaluate()\n",
    "    end = time.time()\n",
    "    score = model.evaluate()\n",
    "    duration = numpy.round((end-start), 2)\n",
    "    logging.info(f'{model.name}={numpy.round(score, 4)} in {duration}s')\n",
    "    if plot:\n",
    "        plot_history(model.history)\n",
    "    return {'name': model.name, 'score': score, 'duration': duration}"
   ]
  },
  {
   "cell_type": "code",
   "execution_count": null,
   "metadata": {},
   "outputs": [
    {
     "name": "stdout",
     "output_type": "stream",
     "text": [
      "The autoreload extension is already loaded. To reload it, use:\n",
      "  %reload_ext autoreload\n",
      "Epoch 1/20\n",
      "\u001b[1m5527/5527\u001b[0m \u001b[32m━━━━━━━━━━━━━━━━━━━━\u001b[0m\u001b[37m\u001b[0m \u001b[1m33s\u001b[0m 5ms/step - loss: 6.2310 - val_loss: 3.2351\n",
      "Epoch 2/20\n",
      "\u001b[1m5527/5527\u001b[0m \u001b[32m━━━━━━━━━━━━━━━━━━━━\u001b[0m\u001b[37m\u001b[0m \u001b[1m30s\u001b[0m 5ms/step - loss: 7.2169 - val_loss: 3.2821\n",
      "Epoch 3/20\n",
      "\u001b[1m5527/5527\u001b[0m \u001b[32m━━━━━━━━━━━━━━━━━━━━\u001b[0m\u001b[37m\u001b[0m \u001b[1m31s\u001b[0m 6ms/step - loss: 5.4105 - val_loss: 3.2064\n",
      "Epoch 4/20\n",
      "\u001b[1m5527/5527\u001b[0m \u001b[32m━━━━━━━━━━━━━━━━━━━━\u001b[0m\u001b[37m\u001b[0m \u001b[1m31s\u001b[0m 6ms/step - loss: 4.7488 - val_loss: 3.2559\n",
      "Epoch 5/20\n",
      "\u001b[1m5527/5527\u001b[0m \u001b[32m━━━━━━━━━━━━━━━━━━━━\u001b[0m\u001b[37m\u001b[0m \u001b[1m31s\u001b[0m 6ms/step - loss: 5.3521 - val_loss: 3.4999\n",
      "Epoch 6/20\n",
      "\u001b[1m5527/5527\u001b[0m \u001b[32m━━━━━━━━━━━━━━━━━━━━\u001b[0m\u001b[37m\u001b[0m \u001b[1m27s\u001b[0m 5ms/step - loss: 4.6849 - val_loss: 3.2959\n",
      "Epoch 7/20\n",
      "\u001b[1m5527/5527\u001b[0m \u001b[32m━━━━━━━━━━━━━━━━━━━━\u001b[0m\u001b[37m\u001b[0m \u001b[1m30s\u001b[0m 5ms/step - loss: 5.2709 - val_loss: 3.9920\n",
      "Epoch 8/20\n",
      "\u001b[1m5527/5527\u001b[0m \u001b[32m━━━━━━━━━━━━━━━━━━━━\u001b[0m\u001b[37m\u001b[0m \u001b[1m30s\u001b[0m 5ms/step - loss: 6.3911 - val_loss: 3.3155\n",
      "Epoch 9/20\n",
      "\u001b[1m5527/5527\u001b[0m \u001b[32m━━━━━━━━━━━━━━━━━━━━\u001b[0m\u001b[37m\u001b[0m \u001b[1m31s\u001b[0m 6ms/step - loss: 5.2058 - val_loss: 4.1818\n",
      "Epoch 10/20\n",
      "\u001b[1m5527/5527\u001b[0m \u001b[32m━━━━━━━━━━━━━━━━━━━━\u001b[0m\u001b[37m\u001b[0m \u001b[1m31s\u001b[0m 6ms/step - loss: 4.7919 - val_loss: 4.0686\n",
      "Epoch 11/20\n",
      "\u001b[1m5527/5527\u001b[0m \u001b[32m━━━━━━━━━━━━━━━━━━━━\u001b[0m\u001b[37m\u001b[0m \u001b[1m31s\u001b[0m 6ms/step - loss: 5.0073 - val_loss: 3.2934\n",
      "Epoch 12/20\n",
      "\u001b[1m5527/5527\u001b[0m \u001b[32m━━━━━━━━━━━━━━━━━━━━\u001b[0m\u001b[37m\u001b[0m \u001b[1m31s\u001b[0m 6ms/step - loss: 6.0189 - val_loss: 3.9967\n",
      "Epoch 13/20\n",
      "\u001b[1m5527/5527\u001b[0m \u001b[32m━━━━━━━━━━━━━━━━━━━━\u001b[0m\u001b[37m\u001b[0m \u001b[1m31s\u001b[0m 6ms/step - loss: 5.5561 - val_loss: 3.6434\n",
      "Epoch 14/20\n",
      "\u001b[1m5527/5527\u001b[0m \u001b[32m━━━━━━━━━━━━━━━━━━━━\u001b[0m\u001b[37m\u001b[0m \u001b[1m31s\u001b[0m 6ms/step - loss: 4.9863 - val_loss: 3.7727\n",
      "Epoch 15/20\n",
      "\u001b[1m5527/5527\u001b[0m \u001b[32m━━━━━━━━━━━━━━━━━━━━\u001b[0m\u001b[37m\u001b[0m \u001b[1m31s\u001b[0m 6ms/step - loss: 4.8666 - val_loss: 3.4788\n",
      "Epoch 16/20\n",
      "\u001b[1m5527/5527\u001b[0m \u001b[32m━━━━━━━━━━━━━━━━━━━━\u001b[0m\u001b[37m\u001b[0m \u001b[1m34s\u001b[0m 6ms/step - loss: 5.1821 - val_loss: 3.7227\n",
      "Epoch 17/20\n",
      "\u001b[1m5527/5527\u001b[0m \u001b[32m━━━━━━━━━━━━━━━━━━━━\u001b[0m\u001b[37m\u001b[0m \u001b[1m26s\u001b[0m 5ms/step - loss: 5.0018 - val_loss: 3.6045\n",
      "Epoch 18/20\n",
      "\u001b[1m5527/5527\u001b[0m \u001b[32m━━━━━━━━━━━━━━━━━━━━\u001b[0m\u001b[37m\u001b[0m \u001b[1m30s\u001b[0m 5ms/step - loss: 5.1446 - val_loss: 3.4135\n",
      "Epoch 19/20\n",
      "\u001b[1m5527/5527\u001b[0m \u001b[32m━━━━━━━━━━━━━━━━━━━━\u001b[0m\u001b[37m\u001b[0m \u001b[1m32s\u001b[0m 6ms/step - loss: 4.2347 - val_loss: 4.2944\n",
      "Epoch 20/20\n",
      "\u001b[1m5527/5527\u001b[0m \u001b[32m━━━━━━━━━━━━━━━━━━━━\u001b[0m\u001b[37m\u001b[0m \u001b[1m30s\u001b[0m 5ms/step - loss: 4.6289 - val_loss: 3.7938\n",
      "\u001b[1m16905/16905\u001b[0m \u001b[32m━━━━━━━━━━━━━━━━━━━━\u001b[0m\u001b[37m\u001b[0m \u001b[1m39s\u001b[0m 2ms/step\n",
      "\u001b[1m16905/16905\u001b[0m \u001b[32m━━━━━━━━━━━━━━━━━━━━\u001b[0m\u001b[37m\u001b[0m \u001b[1m40s\u001b[0m 2ms/step\n",
      "2025-01-27 22:10:23,337 - root- INFO - celu=0.8815 in 663.24s\n",
      "\u001b[1m16905/16905\u001b[0m \u001b[32m━━━━━━━━━━━━━━━━━━━━\u001b[0m\u001b[37m\u001b[0m \u001b[1m36s\u001b[0m 2ms/step\n",
      "\u001b[1m16905/16905\u001b[0m \u001b[32m━━━━━━━━━━━━━━━━━━━━\u001b[0m\u001b[37m\u001b[0m \u001b[1m36s\u001b[0m 2ms/step\n",
      "2025-01-27 22:11:45,832 - root- INFO - elu=0.8815 in 41.84s\n",
      "\u001b[1m16905/16905\u001b[0m \u001b[32m━━━━━━━━━━━━━━━━━━━━\u001b[0m\u001b[37m\u001b[0m \u001b[1m26s\u001b[0m 2ms/step\n",
      "\u001b[1m16905/16905\u001b[0m \u001b[32m━━━━━━━━━━━━━━━━━━━━\u001b[0m\u001b[37m\u001b[0m \u001b[1m26s\u001b[0m 2ms/step\n",
      "2025-01-27 22:12:47,086 - root- INFO - exponential=0.8815 in 31.03s\n",
      "\u001b[1m16905/16905\u001b[0m \u001b[32m━━━━━━━━━━━━━━━━━━━━\u001b[0m\u001b[37m\u001b[0m \u001b[1m23s\u001b[0m 1ms/step\n"
     ]
    }
   ],
   "source": [
    "%load_ext autoreload\n",
    "%autoreload 2\n",
    "import matplotlib.pyplot as plt\n",
    "from models.factory import ModelFactory\n",
    "with open('../conf/models.yml', 'r') as file:\n",
    "    configurations = yaml.safe_load(file)\n",
    "factory = ModelFactory(configurations, x_train, y_train, x_test, y_test)\n",
    "lines = []\n",
    "activations = ['celu', 'elu', 'exponential', 'gelu', 'glu', 'hard_shrink', 'hard_sigmoid', 'hard_silu', 'hard_tanh', 'leaky_relu', 'linear', 'log_sigmoid', 'log_softmax', 'mish', 'relu', \n",
    "               'relu6', 'selu', 'sigmoid', 'silu', 'softmax', 'soft_shrink', 'softplus', 'softsign', 'sparse_plus', 'sparsemax', 'squareplus', 'tanh', 'tanh_shrink']\n",
    "\n",
    "# activations = ['celu', 'elu']\n",
    "\n",
    "model = factory.get_model('keras')\n",
    "for activation in activations:\n",
    "    model.name = activation\n",
    "    model.params['layers'] = [\n",
    "        { 'units': 10, 'activation': activation },\n",
    "        { 'units': 10, 'activation': activation },\n",
    "        { 'units': 10, 'activation': activation },\n",
    "        { 'units': 10, 'activation': activation },\n",
    "        { 'units': 10, 'activation': activation },\n",
    "        ]\n",
    "    lines.append(evaluate_model(model, False))\n",
    "    \n",
    "df = pandas.DataFrame(lines).sort_values(by=['score'], ascending=True)"
   ]
  }
 ],
 "metadata": {
  "kernelspec": {
   "display_name": "Python 3",
   "language": "python",
   "name": "python3"
  },
  "language_info": {
   "codemirror_mode": {
    "name": "ipython",
    "version": 3
   },
   "file_extension": ".py",
   "mimetype": "text/x-python",
   "name": "python",
   "nbconvert_exporter": "python",
   "pygments_lexer": "ipython3",
   "version": "3.12.8"
  }
 },
 "nbformat": 4,
 "nbformat_minor": 2
}
