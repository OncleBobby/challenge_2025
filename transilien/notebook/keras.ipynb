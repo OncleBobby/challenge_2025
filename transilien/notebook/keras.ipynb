{
 "cells": [
  {
   "cell_type": "code",
   "execution_count": null,
   "metadata": {},
   "outputs": [],
   "source": [
    "%load_ext autoreload\n",
    "%autoreload 2\n",
    "import sys, warnings, yaml, logging, pandas, time, numpy\n",
    "sys.path.append(\"../src/\") # go to parent dir\n",
    "from main import prepare_data, evaluate_models\n",
    "warnings.filterwarnings('ignore')\n",
    "with open('../conf/log.yml', 'rt') as f:\n",
    "    config = yaml.safe_load(f.read())\n",
    "logging.config.dictConfig(config)"
   ]
  },
  {
   "cell_type": "code",
   "execution_count": null,
   "metadata": {},
   "outputs": [],
   "source": [
    "%load_ext autoreload\n",
    "%autoreload 2\n",
    "x_columns = ['train', 'gare', 'date', 'arret', 'p2q0', 'p3q0', 'p4q0', 'p0q2', 'p0q3', 'p0q4']\n",
    "x_columns = ['gare', 'arret', 'p2q0', 'p3q0', 'p4q0', 'p0q2', 'p0q3', 'p0q4']\n",
    "x_train, x_test, y_train, y_test, x_to_predict = prepare_data(x_columns)"
   ]
  },
  {
   "cell_type": "code",
   "execution_count": null,
   "metadata": {},
   "outputs": [],
   "source": [
    "%load_ext autoreload\n",
    "%autoreload 2\n",
    "import matplotlib.pyplot as plt\n",
    "from models.factory import ModelFactory\n",
    "with open('../conf/models.yml', 'r') as file:\n",
    "    configurations = yaml.safe_load(file)\n",
    "factory = ModelFactory(configurations, x_train, y_train, x_test, y_test)\n",
    "lines = []\n",
    "for model in factory.get_models():\n",
    "    configuration = configurations[model.name]\n",
    "    if not configuration['class'] == 'models.keras_model.KerasModel':\n",
    "        continue\n",
    "    start = time.time()\n",
    "    score = model.evaluate()\n",
    "    end = time.time()\n",
    "    duration = numpy.round((end-start), 2)\n",
    "    logging.info(f'{model.name}={numpy.round(score, 4)} in {duration}s')\n",
    "    lines.append({'name': model.name, 'score': score, 'duration': duration})\n",
    "    \n",
    "    history = model.history\n",
    "    logging.info(history.history.keys())\n",
    "    plt.plot(history.history['loss'])\n",
    "    plt.plot(history.history['val_loss'])\n",
    "    plt.title('model loss')\n",
    "    plt.ylabel('loss')\n",
    "    plt.xlabel('epoch')\n",
    "    plt.legend(['train', 'test'], loc='upper left')\n",
    "    plt.show()\n",
    "\n",
    "df = pandas.DataFrame(lines).sort_values(by=['score'], ascending=True)"
   ]
  },
  {
   "cell_type": "code",
   "execution_count": null,
   "metadata": {},
   "outputs": [],
   "source": [
    "%load_ext autoreload\n",
    "%autoreload 2\n",
    "import pandas\n",
    "x = pandas.concat([x_train, x_test])\n",
    "y = pandas.concat([y_train, y_test])\n",
    "evaluate_models(x, y, x, y, x_to_predict)"
   ]
  }
 ],
 "metadata": {
  "kernelspec": {
   "display_name": "Python 3",
   "language": "python",
   "name": "python3"
  },
  "language_info": {
   "codemirror_mode": {
    "name": "ipython",
    "version": 3
   },
   "file_extension": ".py",
   "mimetype": "text/x-python",
   "name": "python",
   "nbconvert_exporter": "python",
   "pygments_lexer": "ipython3",
   "version": "3.12.8"
  }
 },
 "nbformat": 4,
 "nbformat_minor": 2
}
