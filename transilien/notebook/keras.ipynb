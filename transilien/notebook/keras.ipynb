{
 "cells": [
  {
   "cell_type": "code",
   "execution_count": 1,
   "metadata": {},
   "outputs": [],
   "source": [
    "%load_ext autoreload\n",
    "%autoreload 2\n",
    "import sys, warnings, yaml, logging, pandas, time, numpy\n",
    "sys.path.append(\"../src/\") # go to parent dir\n",
    "from main import prepare_data, evaluate_models\n",
    "warnings.filterwarnings('ignore')\n",
    "with open('../conf/log.yml', 'rt') as f:\n",
    "    config = yaml.safe_load(f.read())\n",
    "logging.config.dictConfig(config)"
   ]
  },
  {
   "cell_type": "code",
   "execution_count": null,
   "metadata": {},
   "outputs": [],
   "source": [
    "%load_ext autoreload\n",
    "%autoreload 2\n",
    "x_columns = ['train', 'gare', 'date', 'arret', 'p2q0', 'p3q0', 'p4q0', 'p0q2', 'p0q3', 'p0q4']\n",
    "x_columns = ['gare', 'arret', 'p2q0', 'p3q0', 'p4q0', 'p0q2', 'p0q3', 'p0q4']\n",
    "x_train, x_test, y_train, y_test, x_valid = prepare_data(x_columns)"
   ]
  },
  {
   "cell_type": "code",
   "execution_count": null,
   "metadata": {},
   "outputs": [],
   "source": [
    "%load_ext autoreload\n",
    "%autoreload 2\n",
    "import matplotlib.pyplot as plt\n",
    "\n",
    "def plot_history(history):\n",
    "    logging.info(history.history.keys())\n",
    "    plt.plot(history.history['loss'])\n",
    "    plt.plot(history.history['val_loss'])\n",
    "    plt.title('model loss')\n",
    "    plt.ylabel('loss')\n",
    "    plt.xlabel('epoch')\n",
    "    plt.legend(['train', 'test'], loc='upper left')\n",
    "    plt.show()\n",
    "def evaluate_model(model, plot=True):\n",
    "    start = time.time()\n",
    "    score = model.evaluate()\n",
    "    end = time.time()\n",
    "    score = model.evaluate()\n",
    "    duration = numpy.round((end-start), 2)\n",
    "    logging.info(f'{model.name}={numpy.round(score, 4)} in {duration}s')\n",
    "    if plot:\n",
    "        plot_history(model.history)\n",
    "    return {'name': model.name, 'score': score, 'duration': duration}"
   ]
  },
  {
   "cell_type": "code",
   "execution_count": null,
   "metadata": {},
   "outputs": [],
   "source": [
    "%load_ext autoreload\n",
    "%autoreload 2\n",
    "import matplotlib.pyplot as plt\n",
    "from models.factory import ModelFactory\n",
    "with open('../conf/models.yml', 'r') as file:\n",
    "    configurations = yaml.safe_load(file)\n",
    "factory = ModelFactory(configurations, x_train, y_train, x_test, y_test)\n",
    "lines = []\n",
    "activations = ['celu', 'elu', 'gelu', 'glu', 'hard_sigmoid', 'hard_silu', 'hard_tanh', 'leaky_relu', 'linear', 'log_sigmoid', 'log_softmax', 'mish', 'relu', \n",
    "               'relu6', 'selu', 'sigmoid', 'silu', 'softmax', 'soft_shrink', 'softplus', 'softsign', 'sparse_plus', 'sparsemax', 'squareplus', 'tanh', 'tanh_shrink']\n",
    "\n",
    "activations = ['softmax', 'tanh_shrink', 'elu', 'hard_silu', 'soft_shrink', 'log_softmax', 'relu', 'softplus']\n",
    "activations = ['softmax', 'tanh_shrink', 'elu', 'hard_silu', 'soft_shrink', 'relu', 'softplus']\n",
    "activations = ['elu']\n",
    "\n",
    "optimizers = ['adam', 'sgd', 'rmsprop', 'adamw', 'adadelta', 'adagrad', 'adamax', 'adafactor', 'nadam', 'ftrl', 'lion', 'lamb']\n",
    "# unitss = [5, 10, 15, 20, 25, 30]\n",
    "unitss = [25]\n",
    "\n",
    "optimizers = ['adam']\n",
    "# nbr_layerss = [1, 2, 3, 4, 5, 6, 7, 8, 9, 10] \n",
    "nbr_layerss = [5] \n",
    "\n",
    "def  _evaluate_model(units, activation, optimizer, nbr_layers):\n",
    "    model = factory.get_model('keras')\n",
    "    model.params['layers'] = [{ 'units': units, 'activation': activation } for l in range(1, nbr_layers)]\n",
    "    model.params['layers'].append({ 'units': 1, 'activation': 'linear' })\n",
    "    activations_str = '_'.join([l['activation'] for l in model.params['layers']])\n",
    "    model.name = f'{activations_str}_{optimizer}_{units}_{nbr_layers}'\n",
    "    model.params['optimizer'] = optimizer\n",
    "    line = evaluate_model(model, False)\n",
    "    line['activation'] = activation\n",
    "    line['optimizer'] = optimizer\n",
    "    line['units'] = units\n",
    "    return line\n",
    "\n",
    "for activation in activations:\n",
    "    for optimizer in optimizers:\n",
    "        for units in unitss:\n",
    "            for nbr_layers in nbr_layerss:\n",
    "                line = _evaluate_model(units, activation, optimizer, nbr_layers)\n",
    "                if not line is None:\n",
    "                    lines.append(line)\n",
    "df = pandas.DataFrame(lines).sort_values(by=['score'], ascending=True)\n",
    "df"
   ]
  },
  {
   "cell_type": "code",
   "execution_count": 5,
   "metadata": {},
   "outputs": [],
   "source": [
    "# df.to_csv('../data/keras_test_units.csv', index=False)"
   ]
  }
 ],
 "metadata": {
  "kernelspec": {
   "display_name": "Python 3",
   "language": "python",
   "name": "python3"
  },
  "language_info": {
   "codemirror_mode": {
    "name": "ipython",
    "version": 3
   },
   "file_extension": ".py",
   "mimetype": "text/x-python",
   "name": "python",
   "nbconvert_exporter": "python",
   "pygments_lexer": "ipython3",
   "version": "3.12.8"
  }
 },
 "nbformat": 4,
 "nbformat_minor": 2
}
