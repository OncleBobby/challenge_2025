{
 "cells": [
  {
   "cell_type": "markdown",
   "metadata": {},
   "source": [
    "# Initialisation"
   ]
  },
  {
   "cell_type": "code",
   "execution_count": 1,
   "metadata": {},
   "outputs": [],
   "source": [
    "%load_ext autoreload\n",
    "%autoreload 2\n",
    "import sys, warnings, yaml, logging, pandas\n",
    "sys.path.append(\"../src/\") # go to parent dir\n",
    "from main import prepare_data, evaluate_models\n",
    "warnings.filterwarnings('ignore')\n",
    "with open('../conf/log.yml', 'rt') as f:\n",
    "    config = yaml.safe_load(f.read())\n",
    "logging.config.dictConfig(config)"
   ]
  },
  {
   "cell_type": "markdown",
   "metadata": {},
   "source": [
    "# Train"
   ]
  },
  {
   "cell_type": "code",
   "execution_count": 13,
   "metadata": {},
   "outputs": [
    {
     "name": "stdout",
     "output_type": "stream",
     "text": [
      "   arret  p2q0  p3q0  p4q0  p0q2  p0q3  p0q4    0    1    2  ...   74   75  \\\n",
      "0      8   0.0   0.0   1.0  -3.0  -1.0  -2.0  0.0  0.0  0.0  ...  0.0  0.0   \n",
      "1      9   0.0   0.0   0.0   1.0   0.0   1.0  0.0  0.0  0.0  ...  0.0  0.0   \n",
      "2     10  -1.0   0.0   0.0  -1.0   0.0   0.0  0.0  0.0  0.0  ...  0.0  0.0   \n",
      "3     11  -1.0  -1.0   0.0   2.0  -2.0   0.0  0.0  0.0  0.0  ...  0.0  0.0   \n",
      "4     12  -1.0  -1.0  -1.0  -1.0   3.0   2.0  0.0  0.0  0.0  ...  0.0  0.0   \n",
      "\n",
      "    76   77   78   79   80   81   82   83  \n",
      "0  0.0  0.0  0.0  0.0  0.0  0.0  0.0  0.0  \n",
      "1  0.0  0.0  0.0  0.0  0.0  0.0  0.0  0.0  \n",
      "2  0.0  0.0  0.0  0.0  0.0  0.0  0.0  0.0  \n",
      "3  0.0  0.0  0.0  0.0  0.0  0.0  0.0  0.0  \n",
      "4  0.0  0.0  0.0  0.0  0.0  0.0  0.0  0.0  \n",
      "\n",
      "[5 rows x 91 columns]\n"
     ]
    }
   ],
   "source": [
    "from sklearn.preprocessing import OneHotEncoder\n",
    "x_columns = ['gare', 'arret', 'p2q0', 'p3q0', 'p4q0', 'p0q2', 'p0q3', 'p0q4']\n",
    "x_train = pandas.read_csv(f'../data/train/x_train_final.csv', index_col=False)[x_columns]\n",
    "x_valid = pandas.read_csv(f'../data/test/x_test_final.csv', index_col=False)[x_columns]\n",
    "columns = ['gare']\n",
    "\n",
    "encoder = OneHotEncoder(handle_unknown='ignore', sparse_output=False)\n",
    "cols_train = pandas.DataFrame(encoder.fit_transform(x_train[columns]))\n",
    "cols_valid = pandas.DataFrame(encoder.transform(x_valid[columns]))\n",
    "\n",
    "# One-hot encoding removed index; put it back\n",
    "cols_train.index = x_train.index\n",
    "cols_valid.index = x_valid.index\n",
    "\n",
    "# Remove categorical columns (will replace with one-hot encoding)\n",
    "numeric_x_train = x_train.drop(columns, axis=1)\n",
    "numeric_x_valid = x_valid.drop(columns, axis=1)\n",
    "\n",
    "# Add one-hot encoded columns to numerical features\n",
    "new_x_train = pandas.concat([numeric_x_train, cols_train], axis=1)\n",
    "new_x_valid = pandas.concat([numeric_x_valid, cols_valid], axis=1)\n",
    "print(new_X_train.head())"
   ]
  }
 ],
 "metadata": {
  "kernelspec": {
   "display_name": "Python 3",
   "language": "python",
   "name": "python3"
  },
  "language_info": {
   "codemirror_mode": {
    "name": "ipython",
    "version": 3
   },
   "file_extension": ".py",
   "mimetype": "text/x-python",
   "name": "python",
   "nbconvert_exporter": "python",
   "pygments_lexer": "ipython3",
   "version": "3.12.8"
  }
 },
 "nbformat": 4,
 "nbformat_minor": 2
}
