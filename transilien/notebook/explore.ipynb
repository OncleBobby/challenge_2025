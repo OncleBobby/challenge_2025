{
 "cells": [
  {
   "cell_type": "markdown",
   "metadata": {},
   "source": [
    "# Prepare data"
   ]
  },
  {
   "cell_type": "code",
   "execution_count": 2,
   "metadata": {},
   "outputs": [
    {
     "name": "stdout",
     "output_type": "stream",
     "text": [
      "column=84\n",
      "  gare  arret  p2q0  p3q0  p4q0  p0q2  p0q3  p0q4\n",
      "0  KYF      8   0.0   0.0   1.0  -3.0  -1.0  -2.0\n",
      "1  JLR      9   0.0   0.0   0.0   1.0   0.0   1.0\n",
      "2  EOH     10  -1.0   0.0   0.0  -1.0   0.0   0.0\n",
      "3  VXY     11  -1.0  -1.0   0.0   2.0  -2.0   0.0\n",
      "4  OCB     12  -1.0  -1.0  -1.0  -1.0   3.0   2.0\n",
      "column=84\n",
      "   gare  arret  p2q0  p3q0  p4q0  p0q2  p0q3  p0q4\n",
      "0    34      8   0.0   0.0   1.0  -3.0  -1.0  -2.0\n",
      "1    26      9   0.0   0.0   0.0   1.0   0.0   1.0\n",
      "2    14     10  -1.0   0.0   0.0  -1.0   0.0   0.0\n",
      "3    68     11  -1.0  -1.0   0.0   2.0  -2.0   0.0\n",
      "4    43     12  -1.0  -1.0  -1.0  -1.0   3.0   2.0\n"
     ]
    }
   ],
   "source": [
    "import pandas\n",
    "from sklearn.metrics import accuracy_score\n",
    "from sklearn.preprocessing import LabelEncoder\n",
    "from sklearn.metrics import mean_absolute_error\n",
    "\n",
    "\n",
    "train_path = f'../data/train/'\n",
    "test_path = f'../data/test/'\n",
    "x_columns = ['train', 'gare', 'date', 'arret', 'p2q0', 'p3q0', 'p4q0', 'p0q2', 'p0q3', 'p0q4']\n",
    "x_category_columns = ['train', 'gare', 'date']\n",
    "\n",
    "x_columns = ['gare', 'arret', 'p2q0', 'p3q0', 'p4q0', 'p0q2', 'p0q3', 'p0q4']\n",
    "x_category_columns = ['gare', ]\n",
    "\n",
    "y_column = 'p0q0'\n",
    "x_train = pandas.read_csv(f'{train_path}x_train_final.csv', index_col=False)[x_columns]\n",
    "y_train = pandas.read_csv(f'{train_path}y_train_final.csv', index_col=False)[[y_column]]\n",
    "\n",
    "x_to_predict = pandas.read_csv(f'{test_path}x_test_final.csv', index_col=False)[x_columns]\n",
    "\n",
    "for column in x_category_columns:\n",
    "    print(f'column={len(x_train[column].unique())}')\n",
    "print(x_train[:5])\n",
    "\n",
    "encoder = LabelEncoder() \n",
    "for column in x_category_columns:\n",
    "    x_train[column]= encoder.fit_transform(x_train[column])\n",
    "    x_to_predict[column] = encoder.transform(x_to_predict[column])\n",
    "\n",
    "for column in x_category_columns:\n",
    "    print(f'column={len(x_train[column].unique())}')\n",
    "print(x_train[:5])\n"
   ]
  },
  {
   "cell_type": "code",
   "execution_count": 3,
   "metadata": {},
   "outputs": [],
   "source": [
    "from sklearn.model_selection import train_test_split\n",
    "x_train, x_test, y_train, y_test = train_test_split(x_train, y_train, test_size=0.2, random_state=0)\n"
   ]
  },
  {
   "cell_type": "code",
   "execution_count": 4,
   "metadata": {},
   "outputs": [
    {
     "name": "stdout",
     "output_type": "stream",
     "text": [
      "x_train=Index(['gare', 'arret', 'p2q0', 'p3q0', 'p4q0', 'p0q2', 'p0q3', 'p0q4'], dtype='object')\n",
      "x_test=Index(['gare', 'arret', 'p2q0', 'p3q0', 'p4q0', 'p0q2', 'p0q3', 'p0q4'], dtype='object')\n",
      "y_train=Index(['p0q0'], dtype='object')\n",
      "y_test=Index(['p0q0'], dtype='object')\n"
     ]
    }
   ],
   "source": [
    "print(f'x_train={x_train.columns}')\n",
    "print(f'x_test={x_test.columns}')\n",
    "print(f'y_train={y_train.columns}')\n",
    "print(f'y_test={y_test.columns}')"
   ]
  },
  {
   "cell_type": "code",
   "execution_count": 5,
   "metadata": {},
   "outputs": [
    {
     "data": {
      "text/plain": [
       "0.7481844256252067"
      ]
     },
     "execution_count": 5,
     "metadata": {},
     "output_type": "execute_result"
    }
   ],
   "source": [
    "from xgboost import XGBRegressor\n",
    "\n",
    "model = XGBRegressor()\n",
    "model.fit(x_train, y_train)\n",
    "y_pred = pandas.DataFrame(model.predict(x_test))\n",
    "\n",
    "mean_absolute_error(y_test, y_pred)\n"
   ]
  },
  {
   "cell_type": "code",
   "execution_count": 16,
   "metadata": {},
   "outputs": [],
   "source": [
    "y_predict = pandas.DataFrame(model.predict(x_to_predict)).rename(columns={0: y_column})\n",
    "# y_predict[:5]\n",
    "y_predict.to_csv(f'{test_path}y_predict.csv')"
   ]
  },
  {
   "cell_type": "markdown",
   "metadata": {},
   "source": [
    "# Test"
   ]
  },
  {
   "cell_type": "code",
   "execution_count": null,
   "metadata": {},
   "outputs": [],
   "source": [
    "le = LabelEncoder()\n",
    "le.fit([\"paris\", \"paris\", \"tokyo\", \"amsterdam\"])\n",
    "print(list(le.classes_))\n",
    "print(le.transform([\"tokyo\", \"tokyo\", \"paris\"]))\n",
    "print(list(le.inverse_transform([2, 2, 1])))"
   ]
  }
 ],
 "metadata": {
  "kernelspec": {
   "display_name": "Python 3",
   "language": "python",
   "name": "python3"
  },
  "language_info": {
   "codemirror_mode": {
    "name": "ipython",
    "version": 3
   },
   "file_extension": ".py",
   "mimetype": "text/x-python",
   "name": "python",
   "nbconvert_exporter": "python",
   "pygments_lexer": "ipython3",
   "version": "3.13.1"
  }
 },
 "nbformat": 4,
 "nbformat_minor": 2
}
